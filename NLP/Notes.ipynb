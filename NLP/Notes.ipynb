{
 "cells": [
  {
   "cell_type": "code",
   "execution_count": null,
   "id": "0ca731c2-4080-44e2-80b2-a674568fd932",
   "metadata": {},
   "outputs": [],
   "source": [
    "# multiline string- ref: 01-Preprocessing\n",
    "# triple quotation marks (\"\"\" \"\"\" or ''' ''') are used in Python to define multiline strings. "
   ]
  },
  {
   "cell_type": "code",
   "execution_count": null,
   "id": "6a0ede01-fa5d-42f0-b122-b6b08edd004c",
   "metadata": {},
   "outputs": [],
   "source": []
  },
  {
   "cell_type": "code",
   "execution_count": null,
   "id": "c30ec15e-8193-4e1b-8edc-256752d068e7",
   "metadata": {},
   "outputs": [],
   "source": []
  },
  {
   "cell_type": "code",
   "execution_count": null,
   "id": "87ed7cca-d7dd-4d62-8671-1d3bf28dbc07",
   "metadata": {},
   "outputs": [],
   "source": []
  },
  {
   "cell_type": "code",
   "execution_count": null,
   "id": "3167235e-1e38-48e4-ac67-27e5130bd8ae",
   "metadata": {},
   "outputs": [],
   "source": []
  }
 ],
 "metadata": {
  "kernelspec": {
   "display_name": "Python [conda env:base] *",
   "language": "python",
   "name": "conda-base-py"
  },
  "language_info": {
   "codemirror_mode": {
    "name": "ipython",
    "version": 3
   },
   "file_extension": ".py",
   "mimetype": "text/x-python",
   "name": "python",
   "nbconvert_exporter": "python",
   "pygments_lexer": "ipython3",
   "version": "3.12.7"
  }
 },
 "nbformat": 4,
 "nbformat_minor": 5
}

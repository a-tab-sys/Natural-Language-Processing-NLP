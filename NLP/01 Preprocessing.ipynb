{
 "cells": [
  {
   "cell_type": "code",
   "execution_count": null,
   "id": "40686981-755c-4285-86ba-64685c9c578b",
   "metadata": {},
   "outputs": [],
   "source": [
    "# Topics Covered:"
   ]
  },
  {
   "cell_type": "code",
   "execution_count": 4,
   "id": "dd653f68-9ca3-43a2-a5bc-d2f18a6ce8ed",
   "metadata": {},
   "outputs": [],
   "source": [
    "# Imports\n",
    "import nltk\n",
    "from nltk.stem import PorterStemmer\n",
    "from nltk.corpus import stopwords\n",
    "from nltk.stem import WordNetLemmatizer\n",
    "# regular expression library can be used to clear text of special characters\n",
    "import re\n",
    "# need this for bag of words\n",
    "from sklearn.feature_extraction.text import CountVectorizer\n",
    "# need this for TF-IDF\n",
    "from sklearn.feature_extraction.text import TfidfVectorizer"
   ]
  },
  {
   "cell_type": "code",
   "execution_count": 5,
   "id": "2aded9f0-df33-4e90-a967-7fe173a15dc3",
   "metadata": {},
   "outputs": [],
   "source": [
    "paragraph=\"\"\"Narendra Damodardas Modi[a] (born 17 September 1950)[b] is an Indian politician who has served as the prime minister of India since 2014. Modi was the chief minister of Gujarat from 2001 to 2014 and is the member of parliament (MP) for Varanasi. He is a member of the Bharatiya Janata Party (BJP) and of the Rashtriya Swayamsevak Sangh (RSS), a right-wing Hindu nationalist paramilitary volunteer organisation. He is the longest-serving prime minister outside the Indian National Congress.[4]. Modi was born and raised in Vadnagar in northeastern Gujarat, where he completed his secondary education. He was introduced to the RSS at the age of eight. \n",
    "At the age of 18, he was married to Jashodaben Modi, whom he abandoned soon after, only publicly acknowledging her four decades later when legally required to do so. Modi became a full-time worker for the RSS in Gujarat in 1971. The RSS assigned him to the BJP in 1985 and he rose through the party hierarchy, becoming general secretary in 1998.[c] In 2001, Modi was appointed chief minister of Gujarat and elected to the legislative assembly soon after. His administration is considered complicit in the 2002 Gujarat riots,[d] and has been criticised for its management of the crisis. According to official records, a little over 1,000 people were killed, three-quarters of whom were Muslim; independent sources estimated 2,000 deaths, mostly Muslim.[13] A Special Investigation Team appointed by the Supreme Court of India in 2012 found no evidence to initiate prosecution proceedings against him.[e] While his policies as chief minister were credited for encouraging economic growth, his administration was criticised for failing to significantly improve health, poverty and education indices in the state.[f]\"\"\""
   ]
  },
  {
   "cell_type": "code",
   "execution_count": 6,
   "id": "6a857b8c-529d-4639-8dd6-528325a98144",
   "metadata": {},
   "outputs": [
    {
     "name": "stdout",
     "output_type": "stream",
     "text": [
      "Narendra Damodardas Modi[a] (born 17 September 1950)[b] is an Indian politician who has served as the prime minister of India since 2014. Modi was the chief minister of Gujarat from 2001 to 2014 and is the member of parliament (MP) for Varanasi. He is a member of the Bharatiya Janata Party (BJP) and of the Rashtriya Swayamsevak Sangh (RSS), a right-wing Hindu nationalist paramilitary volunteer organisation. He is the longest-serving prime minister outside the Indian National Congress.[4]. Modi was born and raised in Vadnagar in northeastern Gujarat, where he completed his secondary education. He was introduced to the RSS at the age of eight. \n",
      "At the age of 18, he was married to Jashodaben Modi, whom he abandoned soon after, only publicly acknowledging her four decades later when legally required to do so. Modi became a full-time worker for the RSS in Gujarat in 1971. The RSS assigned him to the BJP in 1985 and he rose through the party hierarchy, becoming general secretary in 1998.[c] In 2001, Modi was appointed chief minister of Gujarat and elected to the legislative assembly soon after. His administration is considered complicit in the 2002 Gujarat riots,[d] and has been criticised for its management of the crisis. According to official records, a little over 1,000 people were killed, three-quarters of whom were Muslim; independent sources estimated 2,000 deaths, mostly Muslim.[13] A Special Investigation Team appointed by the Supreme Court of India in 2012 found no evidence to initiate prosecution proceedings against him.[e] While his policies as chief minister were credited for encouraging economic growth, his administration was criticised for failing to significantly improve health, poverty and education indices in the state.[f]\n"
     ]
    }
   ],
   "source": [
    "print(paragraph)"
   ]
  },
  {
   "cell_type": "code",
   "execution_count": 10,
   "id": "4935b7c9-6bf0-4ee8-ac95-8d032b673b6f",
   "metadata": {},
   "outputs": [
    {
     "name": "stderr",
     "output_type": "stream",
     "text": [
      "[nltk_data] Downloading package punkt_tab to\n",
      "[nltk_data]     C:\\Users\\Hasaan\\AppData\\Roaming\\nltk_data...\n",
      "[nltk_data]   Package punkt_tab is already up-to-date!\n"
     ]
    }
   ],
   "source": [
    "# Tokenization\n",
    "# process of breaking text into smaller units such as sentences or words. In this case, the code is focused on sentence tokenization\n",
    "# it returns a sentance-tokenized copy of your text, using NLTK's recommended sentance.\n",
    "\n",
    "# required by NLTK's sent_tokenize function\n",
    "# NLTK's download() function checks if the resource is already available on your system. If the resource has already been downloaded and is present in the correct location, it won't download it again.\n",
    "nltk.download('punkt_tab')\n",
    "\n",
    "sentences = nltk.sent_tokenize(paragraph, language='english')"
   ]
  },
  {
   "cell_type": "code",
   "execution_count": 12,
   "id": "5f3de9b2-0a9b-4c55-a4df-d2c56a8fb253",
   "metadata": {},
   "outputs": [
    {
     "name": "stdout",
     "output_type": "stream",
     "text": [
      "<class 'list'>\n",
      "['Narendra Damodardas Modi[a] (born 17 September 1950)[b] is an Indian politician who has served as the prime minister of India since 2014.', 'Modi was the chief minister of Gujarat from 2001 to 2014 and is the member of parliament (MP) for Varanasi.', 'He is a member of the Bharatiya Janata Party (BJP) and of the Rashtriya Swayamsevak Sangh (RSS), a right-wing Hindu nationalist paramilitary volunteer organisation.', 'He is the longest-serving prime minister outside the Indian National Congress.[4].', 'Modi was born and raised in Vadnagar in northeastern Gujarat, where he completed his secondary education.', 'He was introduced to the RSS at the age of eight.', 'At the age of 18, he was married to Jashodaben Modi, whom he abandoned soon after, only publicly acknowledging her four decades later when legally required to do so.', 'Modi became a full-time worker for the RSS in Gujarat in 1971.', 'The RSS assigned him to the BJP in 1985 and he rose through the party hierarchy, becoming general secretary in 1998.', '[c] In 2001, Modi was appointed chief minister of Gujarat and elected to the legislative assembly soon after.', 'His administration is considered complicit in the 2002 Gujarat riots,[d] and has been criticised for its management of the crisis.', 'According to official records, a little over 1,000 people were killed, three-quarters of whom were Muslim; independent sources estimated 2,000 deaths, mostly Muslim.', '[13] A Special Investigation Team appointed by the Supreme Court of India in 2012 found no evidence to initiate prosecution proceedings against him.', '[e] While his policies as chief minister were credited for encouraging economic growth, his administration was criticised for failing to significantly improve health, poverty and education indices in the state.', '[f]']\n"
     ]
    }
   ],
   "source": [
    "print(type(sentences))\n",
    "print(sentences)"
   ]
  },
  {
   "cell_type": "code",
   "execution_count": 14,
   "id": "07443811-b92b-43da-b60c-b6b8cd3f451c",
   "metadata": {},
   "outputs": [],
   "source": [
    "# Stemming\n",
    "# reduces a word to find the base root word \n",
    "# process of reducing words to their base word stem regardless of whether the word remains meaningful or not\n",
    "\n",
    "# creating an object of the PorterStemmer class\n",
    "stemmer=PorterStemmer()"
   ]
  },
  {
   "cell_type": "code",
   "execution_count": 16,
   "id": "47d0cac3-c8b7-4a3b-b574-f5f7903af815",
   "metadata": {},
   "outputs": [
    {
     "name": "stdout",
     "output_type": "stream",
     "text": [
      "go\n",
      "facial\n",
      "think\n",
      "drink\n",
      "histor\n",
      "goe\n"
     ]
    }
   ],
   "source": [
    "# give it a word and it will convert to base root\n",
    "print(stemmer.stem(\"going\"))\n",
    "print(stemmer.stem(\"facial\"))\n",
    "print(stemmer.stem(\"thinking\"))\n",
    "print(stemmer.stem(\"drinking\"))\n",
    "print(stemmer.stem(\"historical\"))\n",
    "print(stemmer.stem(\"goes\"))"
   ]
  },
  {
   "cell_type": "code",
   "execution_count": 18,
   "id": "8e96b133-33ea-4077-b343-dee856770707",
   "metadata": {},
   "outputs": [
    {
     "name": "stderr",
     "output_type": "stream",
     "text": [
      "[nltk_data] Downloading package wordnet to\n",
      "[nltk_data]     C:\\Users\\Hasaan\\AppData\\Roaming\\nltk_data...\n",
      "[nltk_data]   Package wordnet is already up-to-date!\n"
     ]
    }
   ],
   "source": [
    "# lemmatiztion\n",
    "# reduces a word to find a MEANINGFUL base root word \n",
    "# required by WordNetLemmatizer:\n",
    "nltk.download('wordnet')\n",
    "\n",
    "# creating an object of the WordNetLemmatizer class\n",
    "lemmatizer=WordNetLemmatizer()"
   ]
  },
  {
   "cell_type": "code",
   "execution_count": 22,
   "id": "380c327c-3f4e-44e4-9989-0f528a224ed5",
   "metadata": {},
   "outputs": [
    {
     "name": "stdout",
     "output_type": "stream",
     "text": [
      "going\n",
      "facial\n",
      "thinking\n",
      "drinking\n",
      "historical\n",
      "go\n"
     ]
    }
   ],
   "source": [
    "# give it a word and it will convert to meaningful base root\n",
    "print(lemmatizer.lemmatize(\"going\"))\n",
    "print(lemmatizer.lemmatize(\"facial\"))\n",
    "print(lemmatizer.lemmatize(\"thinking\"))\n",
    "print(lemmatizer.lemmatize(\"drinking\"))\n",
    "print(lemmatizer.lemmatize(\"historical\"))\n",
    "print(lemmatizer.lemmatize(\"goes\"))"
   ]
  },
  {
   "cell_type": "code",
   "execution_count": 26,
   "id": "4b3f4d79-a396-423f-92b7-22bf11302bcc",
   "metadata": {},
   "outputs": [
    {
     "name": "stdout",
     "output_type": "stream",
     "text": [
      "15\n",
      "['narendra damodardas modi a   born    september       b  is an indian politician who has served as the prime minister of india since      ', 'modi was the chief minister of gujarat from      to      and is the member of parliament  mp  for varanasi ', 'he is a member of the bharatiya janata party  bjp  and of the rashtriya swayamsevak sangh  rss   a right wing hindu nationalist paramilitary volunteer organisation ', 'he is the longest serving prime minister outside the indian national congress     ', 'modi was born and raised in vadnagar in northeastern gujarat  where he completed his secondary education ', 'he was introduced to the rss at the age of eight ', 'at the age of     he was married to jashodaben modi  whom he abandoned soon after  only publicly acknowledging her four decades later when legally required to do so ', 'modi became a full time worker for the rss in gujarat in      ', 'the rss assigned him to the bjp in      and he rose through the party hierarchy  becoming general secretary in      ', ' c  in       modi was appointed chief minister of gujarat and elected to the legislative assembly soon after ', 'his administration is considered complicit in the      gujarat riots  d  and has been criticised for its management of the crisis ', 'according to official records  a little over       people were killed  three quarters of whom were muslim  independent sources estimated       deaths  mostly muslim ', '     a special investigation team appointed by the supreme court of india in      found no evidence to initiate prosecution proceedings against him ', ' e  while his policies as chief minister were credited for encouraging economic growth  his administration was criticised for failing to significantly improve health  poverty and education indices in the state ', ' f ']\n"
     ]
    }
   ],
   "source": [
    "# Clean up\n",
    "# Clean up data from special characters\n",
    "\n",
    "# initialize list to store our new corpus after we clean\n",
    "corpus=[]\n",
    "\n",
    "print(len(sentences))\n",
    "\n",
    "for i in range (len(sentences)):\n",
    "    # we want to replace all special characters\n",
    "    # sub returns a string by replacing the leftmost character\n",
    "    # ^ : this means other than\n",
    "    # other than small a to small z and big A to big Z, replace with a blank character on our sentances[i]. then convert everyhting to lower case.\n",
    "    textreview = re.sub('[^a-zA-Z]', ' ', sentences[i])\n",
    "    textreview=textreview.lower()\n",
    "    corpus.append(textreview)\n",
    "\n",
    "print(corpus)"
   ]
  },
  {
   "cell_type": "code",
   "execution_count": 28,
   "id": "43eb1b3c-4fda-4733-9d72-65e53d77f682",
   "metadata": {},
   "outputs": [
    {
     "name": "stdout",
     "output_type": "stream",
     "text": [
      "['a', 'about', 'above', 'after', 'again', 'against', 'ain', 'all', 'am', 'an', 'and', 'any', 'are', 'aren', \"aren't\", 'as', 'at', 'be', 'because', 'been', 'before', 'being', 'below', 'between', 'both', 'but', 'by', 'can', 'couldn', \"couldn't\", 'd', 'did', 'didn', \"didn't\", 'do', 'does', 'doesn', \"doesn't\", 'doing', 'don', \"don't\", 'down', 'during', 'each', 'few', 'for', 'from', 'further', 'had', 'hadn', \"hadn't\", 'has', 'hasn', \"hasn't\", 'have', 'haven', \"haven't\", 'having', 'he', \"he'd\", \"he'll\", 'her', 'here', 'hers', 'herself', \"he's\", 'him', 'himself', 'his', 'how', 'i', \"i'd\", 'if', \"i'll\", \"i'm\", 'in', 'into', 'is', 'isn', \"isn't\", 'it', \"it'd\", \"it'll\", \"it's\", 'its', 'itself', \"i've\", 'just', 'll', 'm', 'ma', 'me', 'mightn', \"mightn't\", 'more', 'most', 'mustn', \"mustn't\", 'my', 'myself', 'needn', \"needn't\", 'no', 'nor', 'not', 'now', 'o', 'of', 'off', 'on', 'once', 'only', 'or', 'other', 'our', 'ours', 'ourselves', 'out', 'over', 'own', 're', 's', 'same', 'shan', \"shan't\", 'she', \"she'd\", \"she'll\", \"she's\", 'should', 'shouldn', \"shouldn't\", \"should've\", 'so', 'some', 'such', 't', 'than', 'that', \"that'll\", 'the', 'their', 'theirs', 'them', 'themselves', 'then', 'there', 'these', 'they', \"they'd\", \"they'll\", \"they're\", \"they've\", 'this', 'those', 'through', 'to', 'too', 'under', 'until', 'up', 've', 'very', 'was', 'wasn', \"wasn't\", 'we', \"we'd\", \"we'll\", \"we're\", 'were', 'weren', \"weren't\", \"we've\", 'what', 'when', 'where', 'which', 'while', 'who', 'whom', 'why', 'will', 'with', 'won', \"won't\", 'wouldn', \"wouldn't\", 'y', 'you', \"you'd\", \"you'll\", 'your', \"you're\", 'yours', 'yourself', 'yourselves', \"you've\"]\n"
     ]
    }
   ],
   "source": [
    "# Stop words\n",
    "\n",
    "# to view english stopwords\n",
    "print(stopwords.words('english'))"
   ]
  },
  {
   "cell_type": "code",
   "execution_count": 30,
   "id": "1cf40d93-c797-4b69-8af3-5c2dc4c51525",
   "metadata": {},
   "outputs": [
    {
     "name": "stdout",
     "output_type": "stream",
     "text": [
      "narendra\n",
      "damodardas\n",
      "modi\n",
      "born\n",
      "september\n",
      "b\n",
      "indian\n",
      "politician\n",
      "served\n",
      "prime\n",
      "minister\n",
      "india\n",
      "since\n",
      "modi\n",
      "chief\n",
      "minister\n",
      "gujarat\n",
      "member\n",
      "parliament\n",
      "mp\n",
      "varanasi\n",
      "member\n",
      "bharatiya\n",
      "janata\n",
      "party\n",
      "bjp\n",
      "rashtriya\n",
      "swayamsevak\n",
      "sangh\n",
      "rss\n",
      "right\n",
      "wing\n",
      "hindu\n",
      "nationalist\n",
      "paramilitary\n",
      "volunteer\n",
      "organisation\n",
      "longest\n",
      "serving\n",
      "prime\n",
      "minister\n",
      "outside\n",
      "indian\n",
      "national\n",
      "congress\n",
      "modi\n",
      "born\n",
      "raised\n",
      "vadnagar\n",
      "northeastern\n",
      "gujarat\n",
      "completed\n",
      "secondary\n",
      "education\n",
      "introduced\n",
      "rss\n",
      "age\n",
      "eight\n",
      "age\n",
      "married\n",
      "jashodaben\n",
      "modi\n",
      "abandoned\n",
      "soon\n",
      "publicly\n",
      "acknowledging\n",
      "four\n",
      "decade\n",
      "later\n",
      "legally\n",
      "required\n",
      "modi\n",
      "became\n",
      "full\n",
      "time\n",
      "worker\n",
      "rss\n",
      "gujarat\n",
      "rss\n",
      "assigned\n",
      "bjp\n",
      "rose\n",
      "party\n",
      "hierarchy\n",
      "becoming\n",
      "general\n",
      "secretary\n",
      "c\n",
      "modi\n",
      "appointed\n",
      "chief\n",
      "minister\n",
      "gujarat\n",
      "elected\n",
      "legislative\n",
      "assembly\n",
      "soon\n",
      "administration\n",
      "considered\n",
      "complicit\n",
      "gujarat\n",
      "riot\n",
      "criticised\n",
      "management\n",
      "crisis\n",
      "according\n",
      "official\n",
      "record\n",
      "little\n",
      "people\n",
      "killed\n",
      "three\n",
      "quarter\n",
      "muslim\n",
      "independent\n",
      "source\n",
      "estimated\n",
      "death\n",
      "mostly\n",
      "muslim\n",
      "special\n",
      "investigation\n",
      "team\n",
      "appointed\n",
      "supreme\n",
      "court\n",
      "india\n",
      "found\n",
      "evidence\n",
      "initiate\n",
      "prosecution\n",
      "proceeding\n",
      "e\n",
      "policy\n",
      "chief\n",
      "minister\n",
      "credited\n",
      "encouraging\n",
      "economic\n",
      "growth\n",
      "administration\n",
      "criticised\n",
      "failing\n",
      "significantly\n",
      "improve\n",
      "health\n",
      "poverty\n",
      "education\n",
      "index\n",
      "state\n",
      "f\n"
     ]
    },
    {
     "name": "stderr",
     "output_type": "stream",
     "text": [
      "[nltk_data] Downloading package stopwords to\n",
      "[nltk_data]     C:\\Users\\Hasaan\\AppData\\Roaming\\nltk_data...\n",
      "[nltk_data]   Package stopwords is already up-to-date!\n"
     ]
    }
   ],
   "source": [
    "# Apply preprocessing to our data\n",
    "\n",
    "nltk.download('stopwords')\n",
    "\n",
    "# tokenization(sentance => words), stopwords, stemming or lemmatization\n",
    "# here, i directly refers to an element of the corpus list, which contains the cleaned sentences. So, each i is still a sentence (the processed version), and the loop will print each sentence with a 1-second delay between each one.\n",
    "for i in corpus:\n",
    "    words=nltk.word_tokenize(i)\n",
    "    for word in words:\n",
    "        if word not in set(stopwords.words('english')):   #filters out stopwords and lemmatizes/stems the remaining words  \n",
    "            # print(stemmer.stem(word))\n",
    "            print(lemmatizer.lemmatize(word))\n"
   ]
  },
  {
   "cell_type": "code",
   "execution_count": null,
   "id": "7dae380b-d24a-4f27-b5e4-53f023baa08d",
   "metadata": {},
   "outputs": [],
   "source": [
    "# Apply preprocessing to our data and update corpus\n",
    "\"\"\"\n",
    "processed_corpus = []  # Create a new list to store the updated data\n",
    "for i in corpus:\n",
    "    words = nltk.word_tokenize(i)\n",
    "    # list comprehension - concise way to create a list using a single line of code.\n",
    "    # the general syntax for list comprehension is: [expression for item in iterable if condition]\n",
    "    filtered_words = [ lemmatizer.lemmatize(word) for word in words if word not in set(stopwords.words('english'))]\n",
    "    # ' '.join() is a string method that joins the elements of a list into a single string, with a space (' ') acting as the separator.\n",
    "    processed_corpus.append(' '.join(filtered_words))  # Combine filtered words back into a sentence\n",
    "\n",
    "# Optionally, assign it back to the original corpus\n",
    "corpus = processed_corpus\n",
    "\"\"\""
   ]
  },
  {
   "cell_type": "code",
   "execution_count": 32,
   "id": "9f78892e-eba8-4ecb-8eab-9d901ccf7ced",
   "metadata": {},
   "outputs": [
    {
     "name": "stdout",
     "output_type": "stream",
     "text": [
      "{'narendra damodardas modi': 130, 'damodardas modi born': 41, 'modi born september': 123, 'born september is': 30, 'september is an': 174, 'is an indian': 100, 'an indian politician': 8, 'indian politician who': 95, 'politician who has': 154, 'who has served': 225, 'has served as': 66, 'served as the': 175, 'as the prime': 19, 'the prime minister': 194, 'prime minister of': 156, 'minister of india': 119, 'of india since': 138, 'modi was the': 126, 'was the chief': 218, 'the chief minister': 187, 'chief minister of': 32, 'minister of gujarat': 118, 'of gujarat from': 135, 'gujarat from to': 62, 'from to and': 57, 'to and is': 203, 'and is the': 13, 'is the member': 104, 'the member of': 192, 'member of parliament': 116, 'of parliament mp': 139, 'parliament mp for': 149, 'mp for varanasi': 128, 'he is member': 69, 'is member of': 102, 'member of the': 117, 'of the bharatiya': 140, 'the bharatiya janata': 185, 'bharatiya janata party': 26, 'janata party bjp': 106, 'party bjp and': 150, 'bjp and of': 27, 'and of the': 14, 'of the rashtriya': 142, 'the rashtriya swayamsevak': 195, 'rashtriya swayamsevak sangh': 163, 'swayamsevak sangh rss': 182, 'sangh rss right': 173, 'rss right wing': 172, 'right wing hindu': 166, 'wing hindu nationalist': 228, 'hindu nationalist paramilitary': 78, 'nationalist paramilitary volunteer': 131, 'paramilitary volunteer organisation': 148, 'he is the': 70, 'is the longest': 103, 'the longest serving': 191, 'longest serving prime': 113, 'serving prime minister': 176, 'prime minister outside': 157, 'minister outside the': 120, 'outside the indian': 146, 'the indian national': 189, 'indian national congress': 94, 'modi was born': 125, 'was born and': 214, 'born and raised': 29, 'and raised in': 15, 'raised in vadnagar': 162, 'in vadnagar in': 91, 'vadnagar in northeastern': 212, 'in northeastern gujarat': 88, 'northeastern gujarat where': 133, 'gujarat where he': 64, 'where he completed': 223, 'he completed his': 68, 'completed his secondary': 34, 'his secondary education': 82, 'he was introduced': 72, 'was introduced to': 216, 'introduced to the': 98, 'to the rss': 211, 'the rss at': 197, 'rss at the': 170, 'at the age': 22, 'the age of': 184, 'age of eight': 6, 'age of he': 7, 'of he was': 136, 'he was married': 73, 'was married to': 217, 'married to jashodaben': 115, 'to jashodaben modi': 206, 'jashodaben modi whom': 107, 'modi whom he': 127, 'whom he abandoned': 226, 'he abandoned soon': 67, 'abandoned soon after': 0, 'soon after only': 178, 'after only publicly': 5, 'only publicly acknowledging': 145, 'publicly acknowledging her': 160, 'acknowledging her four': 2, 'her four decades': 75, 'four decades later': 56, 'decades later when': 43, 'later when legally': 109, 'when legally required': 222, 'legally required to': 110, 'required to do': 165, 'to do so': 204, 'modi became full': 122, 'became full time': 23, 'full time worker': 58, 'time worker for': 202, 'worker for the': 229, 'for the rss': 54, 'the rss in': 198, 'rss in gujarat': 171, 'in gujarat in': 86, 'the rss assigned': 196, 'rss assigned him': 169, 'assigned him to': 21, 'him to the': 77, 'to the bjp': 209, 'the bjp in': 186, 'bjp in and': 28, 'in and he': 84, 'and he rose': 12, 'he rose through': 71, 'rose through the': 168, 'through the party': 201, 'the party hierarchy': 193, 'party hierarchy becoming': 151, 'hierarchy becoming general': 76, 'becoming general secretary': 24, 'general secretary in': 59, 'in modi was': 87, 'modi was appointed': 124, 'was appointed chief': 213, 'appointed chief minister': 17, 'of gujarat and': 134, 'gujarat and elected': 61, 'and elected to': 10, 'elected to the': 46, 'to the legislative': 210, 'the legislative assembly': 190, 'legislative assembly soon': 111, 'assembly soon after': 20, 'his administration is': 79, 'administration is considered': 3, 'is considered complicit': 101, 'considered complicit in': 36, 'complicit in the': 35, 'in the gujarat': 89, 'the gujarat riots': 188, 'gujarat riots and': 63, 'riots and has': 167, 'and has been': 11, 'has been criticised': 65, 'been criticised for': 25, 'criticised for its': 40, 'for its management': 53, 'its management of': 105, 'management of the': 114, 'of the crisis': 141, 'according to official': 1, 'to official records': 207, 'official records little': 144, 'records little over': 164, 'little over people': 112, 'over people were': 147, 'people were killed': 152, 'were killed three': 220, 'killed three quarters': 108, 'three quarters of': 200, 'quarters of whom': 161, 'of whom were': 143, 'whom were muslim': 227, 'were muslim independent': 221, 'muslim independent sources': 129, 'independent sources estimated': 92, 'sources estimated deaths': 179, 'estimated deaths mostly': 48, 'deaths mostly muslim': 42, 'special investigation team': 180, 'investigation team appointed': 99, 'team appointed by': 183, 'appointed by the': 16, 'by the supreme': 31, 'the supreme court': 199, 'supreme court of': 181, 'court of india': 37, 'of india in': 137, 'india in found': 93, 'in found no': 85, 'found no evidence': 55, 'no evidence to': 132, 'evidence to initiate': 49, 'to initiate prosecution': 205, 'initiate prosecution proceedings': 97, 'prosecution proceedings against': 159, 'proceedings against him': 158, 'while his policies': 224, 'his policies as': 81, 'policies as chief': 153, 'as chief minister': 18, 'chief minister were': 33, 'minister were credited': 121, 'were credited for': 219, 'credited for encouraging': 38, 'for encouraging economic': 51, 'encouraging economic growth': 47, 'economic growth his': 44, 'growth his administration': 60, 'his administration was': 80, 'administration was criticised': 4, 'was criticised for': 215, 'criticised for failing': 39, 'for failing to': 52, 'failing to significantly': 50, 'to significantly improve': 208, 'significantly improve health': 177, 'improve health poverty': 83, 'health poverty and': 74, 'poverty and education': 155, 'and education indices': 9, 'education indices in': 45, 'indices in the': 96, 'in the state': 90}\n",
      "[[0 0 0 0 0 0 0 0 0 0 0 0 0 1 0 0 0 0 0 0 0 0 0 0 0 0 0 0 0 0 0 0 1 0 0 0\n",
      "  0 0 0 0 0 0 0 0 0 0 0 0 0 0 0 0 0 0 0 0 0 1 0 0 0 0 1 0 0 0 0 0 0 0 0 0\n",
      "  0 0 0 0 0 0 0 0 0 0 0 0 0 0 0 0 0 0 0 0 0 0 0 0 0 0 0 0 0 0 0 0 1 0 0 0\n",
      "  0 0 0 0 0 0 0 0 1 0 1 0 0 0 0 0 0 0 1 0 1 0 0 0 0 0 0 1 0 0 0 1 0 0 0 0\n",
      "  0 0 0 0 0 1 0 0 0 0 0 0 0 0 0 0 0 0 0 0 0 0 0 0 0 0 0 0 0 0 0 0 0 0 0 0\n",
      "  0 0 0 0 0 0 0 1 0 0 0 0 1 0 0 0 0 0 0 0 0 0 0 1 0 0 0 0 0 0 0 0 0 0 0 0\n",
      "  0 0 1 0 0 0 0 0 0 0 0 0 0 0]]\n"
     ]
    }
   ],
   "source": [
    "# Bag of words\n",
    "# CountVectorizer is a class in the sklearn.feature_extraction.text module. It converts a collection of text documents into a matrix of token counts, commonly used in text processing tasks like feature extraction for machine learning models\n",
    "\n",
    "# creating an object of the CountVectorizer class\n",
    "cv=CountVectorizer()\n",
    "cv=CountVectorizer(binary=True, ngram_range=(3,3)) #if you want binary bag of words, or if you want to use ngrams: (3,3 - trigrams) (2,3 - bigrams and trigrams)\n",
    "\n",
    "X=cv.fit_transform(corpus)\n",
    "\n",
    "# shows the vacabulary and the index (feature number), not frequency\n",
    "print(cv.vocabulary_)\n",
    "\n",
    "# bag of words for sentance 2. if binary youll only have 1's and 0's. if not binary you can have 2,3,4,5,...\n",
    "print(X[1].toarray())\n"
   ]
  },
  {
   "cell_type": "code",
   "execution_count": 34,
   "id": "08350f9a-0de4-4203-baa5-f8df6f446d36",
   "metadata": {},
   "outputs": [
    {
     "name": "stdout",
     "output_type": "stream",
     "text": [
      "narendra damodardas modi a   born    september       b  is an indian politician who has served as the prime minister of india since      \n",
      "[[0. 1. 0.]]\n"
     ]
    }
   ],
   "source": [
    "# TFIDF\n",
    "\n",
    "# cv=TfidfVectorizer()\n",
    "# cv=TfidfVectorizer(ngram_range=(2,3))        #to get bigram and trigram\n",
    "\n",
    "cv=TfidfVectorizer(ngram_range=(2,3), max_features=3)        #there is also a max features parameter you can add, explained in your notes\n",
    "  \n",
    "X=cv.fit_transform(corpus)\n",
    "\n",
    "print(corpus[0])\n",
    "\n",
    "# tfidf for sentance 1\n",
    "print(X[0].toarray())"
   ]
  },
  {
   "cell_type": "code",
   "execution_count": null,
   "id": "456c793e-6461-418f-ad3d-2e9d7ceb3ee0",
   "metadata": {},
   "outputs": [],
   "source": []
  }
 ],
 "metadata": {
  "kernelspec": {
   "display_name": "Python [conda env:base] *",
   "language": "python",
   "name": "conda-base-py"
  },
  "language_info": {
   "codemirror_mode": {
    "name": "ipython",
    "version": 3
   },
   "file_extension": ".py",
   "mimetype": "text/x-python",
   "name": "python",
   "nbconvert_exporter": "python",
   "pygments_lexer": "ipython3",
   "version": "3.12.7"
  }
 },
 "nbformat": 4,
 "nbformat_minor": 5
}
